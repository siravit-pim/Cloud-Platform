{
 "cells": [
  {
   "cell_type": "markdown",
   "id": "c28c2fd6",
   "metadata": {},
   "source": [
    "# Data Collection"
   ]
  },
  {
   "cell_type": "markdown",
   "id": "44de31b5",
   "metadata": {},
   "source": [
    "With\n",
    "- ## MySQL database\n",
    "- ## Rest API"
   ]
  },
  {
   "cell_type": "code",
   "execution_count": 14,
   "id": "8b9b97ef",
   "metadata": {},
   "outputs": [],
   "source": [
    "import pymysql\n",
    "import pandas as pd"
   ]
  },
  {
   "cell_type": "code",
   "execution_count": 163,
   "id": "e1f61a00",
   "metadata": {},
   "outputs": [
    {
     "name": "stdout",
     "output_type": "stream",
     "text": [
      "Writing .env\n"
     ]
    }
   ],
   "source": [
    "###########"
   ]
  },
  {
   "cell_type": "code",
   "execution_count": 164,
   "id": "2820c581",
   "metadata": {},
   "outputs": [
    {
     "data": {
      "text/plain": [
       "True"
      ]
     },
     "execution_count": 164,
     "metadata": {},
     "output_type": "execute_result"
    }
   ],
   "source": [
    "#!pip install python-dotenv\n",
    "import os\n",
    "from dotenv import load_dotenv\n",
    "\n",
    "load_dotenv()"
   ]
  },
  {
   "cell_type": "markdown",
   "id": "5d2e9e8d",
   "metadata": {},
   "source": [
    "### MySQL database\n",
    "- PyMySQL - https://pymysql.readthedocs.io/en/latest/user/examples.html"
   ]
  },
  {
   "cell_type": "code",
   "execution_count": 165,
   "id": "567c801e",
   "metadata": {},
   "outputs": [],
   "source": [
    "class Config:\n",
    "    MYSQL_HOST = os.getenv(\"MYSQL_HOST\")\n",
    "    MYSQL_PORT = int(os.getenv(\"MYSQL_PORT\"))\n",
    "    MYSQL_USER = os.getenv(\"MYSQL_USER\")\n",
    "    MYSQL_PASSWORD = os.getenv(\"MYSQL_PASSWORD\")\n",
    "    MYSQL_DB = os.getenv(\"MYSQL_DB\")\n",
    "    MYSQL_CHARSET = os.getenv(\"MYSQL_CHARSET\")"
   ]
  },
  {
   "cell_type": "code",
   "execution_count": 167,
   "id": "b9cf2acf",
   "metadata": {},
   "outputs": [
    {
     "data": {
      "text/plain": [
       "'3306'"
      ]
     },
     "execution_count": 167,
     "metadata": {},
     "output_type": "execute_result"
    }
   ],
   "source": [
    "os.getenv(\"MYSQL_PORT\")"
   ]
  },
  {
   "cell_type": "code",
   "execution_count": 38,
   "id": "7ea3755b",
   "metadata": {},
   "outputs": [
    {
     "name": "stdout",
     "output_type": "stream",
     "text": [
      "3306\n"
     ]
    }
   ],
   "source": [
    "print(Config.MYSQL_PORT)"
   ]
  },
  {
   "cell_type": "code",
   "execution_count": 41,
   "id": "1a777110",
   "metadata": {
    "scrolled": true
   },
   "outputs": [
    {
     "name": "stdout",
     "output_type": "stream",
     "text": [
      "number of row:  2269\n",
      "type:  <class 'list'>\n"
     ]
    }
   ],
   "source": [
    "# Connect to the database\n",
    "connection = pymysql.connect(host=Config.MYSQL_HOST,\n",
    "                             port=Config.MYSQL_PORT,\n",
    "                             user=Config.MYSQL_USER,\n",
    "                             password=Config.MYSQL_PASSWORD,\n",
    "                             db=Config.MYSQL_DB,\n",
    "                             charset=Config.MYSQL_CHARSET,\n",
    "                             cursorclass=pymysql.cursors.DictCursor)\n",
    "\n",
    "with connection.cursor() as cursor:\n",
    "    cursor.execute('select * from audible_data;')\n",
    "    result = cursor.fetchall()\n",
    "    \n",
    "print('number of row: ', len(result))\n",
    "print('type: ',type(result))"
   ]
  },
  {
   "cell_type": "code",
   "execution_count": 29,
   "id": "4d7f9645",
   "metadata": {},
   "outputs": [
    {
     "name": "stdout",
     "output_type": "stream",
     "text": [
      "[{'Tables_in_r2de2': 'audible_data'}, {'Tables_in_r2de2': 'audible_transaction'}]\n"
     ]
    }
   ],
   "source": [
    "with connection.cursor() as cursor:\n",
    "    cursor.execute('show tables;')\n",
    "    tables = cursor.fetchall()\n",
    "print(tables)"
   ]
  },
  {
   "cell_type": "code",
   "execution_count": 34,
   "id": "05a9490a",
   "metadata": {},
   "outputs": [
    {
     "data": {
      "text/plain": [
       "{'Book_ID': 1,\n",
       " 'Book Title': 'Bamboozled by Jesus',\n",
       " 'Book Subtitle': 'How God Tricked Me into the Life of My Dreams',\n",
       " 'Book Author': 'Yvonne Orji',\n",
       " 'Book Narrator': 'Yvonne Orji',\n",
       " 'Audio Runtime': '6 hrs and 31 mins',\n",
       " 'Audiobook_Type': 'Unabridged Audiobook',\n",
       " 'Categories': 'Biographies & Memoirs',\n",
       " 'Rating': '5',\n",
       " 'Total No. of Ratings': 47,\n",
       " 'Price': '$29.65 '}"
      ]
     },
     "execution_count": 34,
     "metadata": {},
     "output_type": "execute_result"
    }
   ],
   "source": [
    "result[0]"
   ]
  },
  {
   "cell_type": "code",
   "execution_count": 35,
   "id": "85f58792",
   "metadata": {},
   "outputs": [
    {
     "data": {
      "text/html": [
       "<div>\n",
       "<style scoped>\n",
       "    .dataframe tbody tr th:only-of-type {\n",
       "        vertical-align: middle;\n",
       "    }\n",
       "\n",
       "    .dataframe tbody tr th {\n",
       "        vertical-align: top;\n",
       "    }\n",
       "\n",
       "    .dataframe thead th {\n",
       "        text-align: right;\n",
       "    }\n",
       "</style>\n",
       "<table border=\"1\" class=\"dataframe\">\n",
       "  <thead>\n",
       "    <tr style=\"text-align: right;\">\n",
       "      <th></th>\n",
       "      <th>Book Title</th>\n",
       "      <th>Book Subtitle</th>\n",
       "      <th>Book Author</th>\n",
       "      <th>Book Narrator</th>\n",
       "      <th>Audio Runtime</th>\n",
       "      <th>Audiobook_Type</th>\n",
       "      <th>Categories</th>\n",
       "      <th>Rating</th>\n",
       "      <th>Total No. of Ratings</th>\n",
       "      <th>Price</th>\n",
       "    </tr>\n",
       "    <tr>\n",
       "      <th>Book_ID</th>\n",
       "      <th></th>\n",
       "      <th></th>\n",
       "      <th></th>\n",
       "      <th></th>\n",
       "      <th></th>\n",
       "      <th></th>\n",
       "      <th></th>\n",
       "      <th></th>\n",
       "      <th></th>\n",
       "      <th></th>\n",
       "    </tr>\n",
       "  </thead>\n",
       "  <tbody>\n",
       "    <tr>\n",
       "      <th>1</th>\n",
       "      <td>Bamboozled by Jesus</td>\n",
       "      <td>How God Tricked Me into the Life of My Dreams</td>\n",
       "      <td>Yvonne Orji</td>\n",
       "      <td>Yvonne Orji</td>\n",
       "      <td>6 hrs and 31 mins</td>\n",
       "      <td>Unabridged Audiobook</td>\n",
       "      <td>Biographies &amp; Memoirs</td>\n",
       "      <td>5</td>\n",
       "      <td>47.0</td>\n",
       "      <td>$29.65</td>\n",
       "    </tr>\n",
       "    <tr>\n",
       "      <th>2</th>\n",
       "      <td>Sixth Realm Part 1</td>\n",
       "      <td>A LitRPG Fantasy Series (The Ten Realms, Book 6)</td>\n",
       "      <td>Michael Chatfield</td>\n",
       "      <td>Neil Hellegers</td>\n",
       "      <td>13 hrs and 33 mins</td>\n",
       "      <td>Unabridged Audiobook</td>\n",
       "      <td>Science Fiction &amp; Fantasy</td>\n",
       "      <td>4.5</td>\n",
       "      <td>98.0</td>\n",
       "      <td>$24.95</td>\n",
       "    </tr>\n",
       "    <tr>\n",
       "      <th>3</th>\n",
       "      <td>Go Tell the Bees That I Am Gone</td>\n",
       "      <td>Outlander, Book 9</td>\n",
       "      <td>Diana Gabaldon</td>\n",
       "      <td>Davina Porter</td>\n",
       "      <td>27 hrs and 30 mins</td>\n",
       "      <td>Unabridged Audiobook</td>\n",
       "      <td>Science Fiction &amp; Fantasy</td>\n",
       "      <td>None</td>\n",
       "      <td>NaN</td>\n",
       "      <td>$41.99</td>\n",
       "    </tr>\n",
       "    <tr>\n",
       "      <th>4</th>\n",
       "      <td>How the Word Is Passed</td>\n",
       "      <td>A Reckoning with the History of Slavery Across...</td>\n",
       "      <td>Clint Smith</td>\n",
       "      <td>Clint Smith</td>\n",
       "      <td>10 hrs and 7 mins</td>\n",
       "      <td>Unabridged Audiobook</td>\n",
       "      <td>History</td>\n",
       "      <td>None</td>\n",
       "      <td>NaN</td>\n",
       "      <td>$29.65</td>\n",
       "    </tr>\n",
       "    <tr>\n",
       "      <th>5</th>\n",
       "      <td>The Devil May Dance</td>\n",
       "      <td>A Novel</td>\n",
       "      <td>Jake Tapper</td>\n",
       "      <td>Rob Shapiro</td>\n",
       "      <td>10 hrs and 12 mins</td>\n",
       "      <td>Unabridged Audiobook</td>\n",
       "      <td>Mystery, Thriller &amp; Suspense</td>\n",
       "      <td>4.5</td>\n",
       "      <td>108.0</td>\n",
       "      <td>$29.65</td>\n",
       "    </tr>\n",
       "  </tbody>\n",
       "</table>\n",
       "</div>"
      ],
      "text/plain": [
       "                              Book Title  \\\n",
       "Book_ID                                    \n",
       "1                    Bamboozled by Jesus   \n",
       "2                     Sixth Realm Part 1   \n",
       "3        Go Tell the Bees That I Am Gone   \n",
       "4                 How the Word Is Passed   \n",
       "5                    The Devil May Dance   \n",
       "\n",
       "                                             Book Subtitle        Book Author  \\\n",
       "Book_ID                                                                         \n",
       "1            How God Tricked Me into the Life of My Dreams        Yvonne Orji   \n",
       "2         A LitRPG Fantasy Series (The Ten Realms, Book 6)  Michael Chatfield   \n",
       "3                                        Outlander, Book 9     Diana Gabaldon   \n",
       "4        A Reckoning with the History of Slavery Across...        Clint Smith   \n",
       "5                                                  A Novel        Jake Tapper   \n",
       "\n",
       "          Book Narrator       Audio Runtime        Audiobook_Type  \\\n",
       "Book_ID                                                             \n",
       "1           Yvonne Orji   6 hrs and 31 mins  Unabridged Audiobook   \n",
       "2        Neil Hellegers  13 hrs and 33 mins  Unabridged Audiobook   \n",
       "3         Davina Porter  27 hrs and 30 mins  Unabridged Audiobook   \n",
       "4           Clint Smith   10 hrs and 7 mins  Unabridged Audiobook   \n",
       "5           Rob Shapiro  10 hrs and 12 mins  Unabridged Audiobook   \n",
       "\n",
       "                           Categories Rating  Total No. of Ratings    Price  \n",
       "Book_ID                                                                      \n",
       "1               Biographies & Memoirs      5                  47.0  $29.65   \n",
       "2           Science Fiction & Fantasy    4.5                  98.0  $24.95   \n",
       "3           Science Fiction & Fantasy   None                   NaN  $41.99   \n",
       "4                             History   None                   NaN  $29.65   \n",
       "5        Mystery, Thriller & Suspense    4.5                 108.0  $29.65   "
      ]
     },
     "execution_count": 35,
     "metadata": {},
     "output_type": "execute_result"
    }
   ],
   "source": [
    "# check easier\n",
    "audible_data = pd.DataFrame(result)\n",
    "audible_data = audible_data.set_index('Book_ID')\n",
    "audible_data.head()"
   ]
  },
  {
   "cell_type": "code",
   "execution_count": 27,
   "id": "9bdfa32e",
   "metadata": {
    "scrolled": true
   },
   "outputs": [
    {
     "name": "stdout",
     "output_type": "stream",
     "text": [
      "<class 'pandas.core.frame.DataFrame'>\n",
      "Int64Index: 2269 entries, 1 to 2269\n",
      "Data columns (total 10 columns):\n",
      " #   Column                Non-Null Count  Dtype  \n",
      "---  ------                --------------  -----  \n",
      " 0   Book Title            2269 non-null   object \n",
      " 1   Book Subtitle         1471 non-null   object \n",
      " 2   Book Author           2269 non-null   object \n",
      " 3   Book Narrator         2211 non-null   object \n",
      " 4   Audio Runtime         2269 non-null   object \n",
      " 5   Audiobook_Type        2206 non-null   object \n",
      " 6   Categories            2152 non-null   object \n",
      " 7   Rating                2033 non-null   object \n",
      " 8   Total No. of Ratings  1975 non-null   float64\n",
      " 9   Price                 2269 non-null   object \n",
      "dtypes: float64(1), object(9)\n",
      "memory usage: 195.0+ KB\n"
     ]
    }
   ],
   "source": [
    "audible_data.info()"
   ]
  },
  {
   "cell_type": "markdown",
   "id": "b7d84f1f",
   "metadata": {},
   "source": [
    "Join table: between fact and dimension table\n",
    "- audible_transaction: `book_id`\n",
    "- audible_data: `Book_ID`"
   ]
  },
  {
   "cell_type": "code",
   "execution_count": 42,
   "id": "4dc01fa9",
   "metadata": {
    "scrolled": false
   },
   "outputs": [
    {
     "name": "stderr",
     "output_type": "stream",
     "text": [
      "C:\\Users\\Kiddy\\AppData\\Local\\Temp\\ipykernel_3312\\487031142.py:2: UserWarning: pandas only supports SQLAlchemy connectable (engine/connection) or database string URI or sqlite3 DBAPI2 connection. Other DBAPI2 objects are not tested. Please consider using SQLAlchemy.\n",
      "  audible_transaction = pd.read_sql(sql, connection)\n"
     ]
    },
    {
     "data": {
      "text/html": [
       "<div>\n",
       "<style scoped>\n",
       "    .dataframe tbody tr th:only-of-type {\n",
       "        vertical-align: middle;\n",
       "    }\n",
       "\n",
       "    .dataframe tbody tr th {\n",
       "        vertical-align: top;\n",
       "    }\n",
       "\n",
       "    .dataframe thead th {\n",
       "        text-align: right;\n",
       "    }\n",
       "</style>\n",
       "<table border=\"1\" class=\"dataframe\">\n",
       "  <thead>\n",
       "    <tr style=\"text-align: right;\">\n",
       "      <th></th>\n",
       "      <th>timestamp</th>\n",
       "      <th>user_id</th>\n",
       "      <th>book_id</th>\n",
       "      <th>country</th>\n",
       "    </tr>\n",
       "  </thead>\n",
       "  <tbody>\n",
       "    <tr>\n",
       "      <th>0</th>\n",
       "      <td>2021-05-01 00:00:01</td>\n",
       "      <td>ad8eca41</td>\n",
       "      <td>1584</td>\n",
       "      <td>Portugal</td>\n",
       "    </tr>\n",
       "    <tr>\n",
       "      <th>1</th>\n",
       "      <td>2021-05-01 00:00:03</td>\n",
       "      <td>561b26c1</td>\n",
       "      <td>829</td>\n",
       "      <td>United States of America</td>\n",
       "    </tr>\n",
       "    <tr>\n",
       "      <th>2</th>\n",
       "      <td>2021-05-01 00:00:04</td>\n",
       "      <td>81f149e5</td>\n",
       "      <td>1391</td>\n",
       "      <td>Japan</td>\n",
       "    </tr>\n",
       "    <tr>\n",
       "      <th>3</th>\n",
       "      <td>2021-05-01 00:00:07</td>\n",
       "      <td>4f218413</td>\n",
       "      <td>1586</td>\n",
       "      <td>Taiwan</td>\n",
       "    </tr>\n",
       "    <tr>\n",
       "      <th>4</th>\n",
       "      <td>2021-05-01 00:00:18</td>\n",
       "      <td>a4066781</td>\n",
       "      <td>300</td>\n",
       "      <td>United States of America</td>\n",
       "    </tr>\n",
       "  </tbody>\n",
       "</table>\n",
       "</div>"
      ],
      "text/plain": [
       "            timestamp   user_id  book_id                   country\n",
       "0 2021-05-01 00:00:01  ad8eca41     1584                  Portugal\n",
       "1 2021-05-01 00:00:03  561b26c1      829  United States of America\n",
       "2 2021-05-01 00:00:04  81f149e5     1391                     Japan\n",
       "3 2021-05-01 00:00:07  4f218413     1586                    Taiwan\n",
       "4 2021-05-01 00:00:18  a4066781      300  United States of America"
      ]
     },
     "execution_count": 42,
     "metadata": {},
     "output_type": "execute_result"
    }
   ],
   "source": [
    "sql = \"SELECT * FROM audible_transaction\"\n",
    "audible_transaction = pd.read_sql(sql, connection)\n",
    "audible_transaction.head()"
   ]
  },
  {
   "cell_type": "code",
   "execution_count": 121,
   "id": "81720112",
   "metadata": {},
   "outputs": [
    {
     "data": {
      "text/html": [
       "<div>\n",
       "<style scoped>\n",
       "    .dataframe tbody tr th:only-of-type {\n",
       "        vertical-align: middle;\n",
       "    }\n",
       "\n",
       "    .dataframe tbody tr th {\n",
       "        vertical-align: top;\n",
       "    }\n",
       "\n",
       "    .dataframe thead th {\n",
       "        text-align: right;\n",
       "    }\n",
       "</style>\n",
       "<table border=\"1\" class=\"dataframe\">\n",
       "  <thead>\n",
       "    <tr style=\"text-align: right;\">\n",
       "      <th></th>\n",
       "      <th>timestamp</th>\n",
       "      <th>user_id</th>\n",
       "      <th>book_id</th>\n",
       "      <th>country</th>\n",
       "      <th>Book Title</th>\n",
       "      <th>Book Subtitle</th>\n",
       "      <th>Book Author</th>\n",
       "      <th>Book Narrator</th>\n",
       "      <th>Audio Runtime</th>\n",
       "      <th>Audiobook_Type</th>\n",
       "      <th>Categories</th>\n",
       "      <th>Rating</th>\n",
       "      <th>Total No. of Ratings</th>\n",
       "      <th>Price</th>\n",
       "    </tr>\n",
       "  </thead>\n",
       "  <tbody>\n",
       "    <tr>\n",
       "      <th>0</th>\n",
       "      <td>2021-05-01 00:00:01</td>\n",
       "      <td>ad8eca41</td>\n",
       "      <td>1584</td>\n",
       "      <td>Portugal</td>\n",
       "      <td>Sycamore Row</td>\n",
       "      <td>None</td>\n",
       "      <td>John Grisham</td>\n",
       "      <td>Michael Beck</td>\n",
       "      <td>20 hrs and 46 mins</td>\n",
       "      <td>Unabridged Audiobook</td>\n",
       "      <td>Mystery, Thriller &amp; Suspense</td>\n",
       "      <td>4.6</td>\n",
       "      <td>25863.0</td>\n",
       "      <td>$35.00</td>\n",
       "    </tr>\n",
       "    <tr>\n",
       "      <th>1</th>\n",
       "      <td>2021-05-01 00:00:03</td>\n",
       "      <td>561b26c1</td>\n",
       "      <td>829</td>\n",
       "      <td>United States of America</td>\n",
       "      <td>The 5 Love Languages of Children</td>\n",
       "      <td>The Secret to Loving Children Effectively</td>\n",
       "      <td>Gary Chapman</td>\n",
       "      <td>Chris Fabry</td>\n",
       "      <td>5 hrs and 48 mins</td>\n",
       "      <td>Unabridged Audiobook</td>\n",
       "      <td>Relationships, Parenting &amp; Personal Development</td>\n",
       "      <td>4.8</td>\n",
       "      <td>2441.0</td>\n",
       "      <td>$19.59</td>\n",
       "    </tr>\n",
       "    <tr>\n",
       "      <th>2</th>\n",
       "      <td>2021-05-01 00:00:04</td>\n",
       "      <td>81f149e5</td>\n",
       "      <td>1391</td>\n",
       "      <td>Japan</td>\n",
       "      <td>The Guardians</td>\n",
       "      <td>A Novel</td>\n",
       "      <td>John Grisham</td>\n",
       "      <td>Michael Beck</td>\n",
       "      <td>11 hrs and 50 mins</td>\n",
       "      <td>Unabridged Audiobook</td>\n",
       "      <td>Mystery, Thriller &amp; Suspense</td>\n",
       "      <td>4.6</td>\n",
       "      <td>26781.0</td>\n",
       "      <td>$31.50</td>\n",
       "    </tr>\n",
       "    <tr>\n",
       "      <th>3</th>\n",
       "      <td>2021-05-01 00:00:07</td>\n",
       "      <td>4f218413</td>\n",
       "      <td>1586</td>\n",
       "      <td>Taiwan</td>\n",
       "      <td>How to Be a 3% Man</td>\n",
       "      <td>None</td>\n",
       "      <td>Corey Wayne</td>\n",
       "      <td>Corey Wayne</td>\n",
       "      <td>7 hrs and 33 mins</td>\n",
       "      <td>Unabridged Audiobook</td>\n",
       "      <td>Relationships, Parenting &amp; Personal Development</td>\n",
       "      <td>4.8</td>\n",
       "      <td>11459.0</td>\n",
       "      <td>$19.95</td>\n",
       "    </tr>\n",
       "    <tr>\n",
       "      <th>4</th>\n",
       "      <td>2021-05-01 00:00:18</td>\n",
       "      <td>a4066781</td>\n",
       "      <td>300</td>\n",
       "      <td>United States of America</td>\n",
       "      <td>Napoleon Hill's Outwitting the Devil</td>\n",
       "      <td>The Secret to Freedom and Success</td>\n",
       "      <td>Napoleon Hill</td>\n",
       "      <td>Dan John Miller</td>\n",
       "      <td>5 hrs and 51 mins</td>\n",
       "      <td>Unabridged Audiobook</td>\n",
       "      <td>Business &amp; Careers</td>\n",
       "      <td>4.8</td>\n",
       "      <td>9305.0</td>\n",
       "      <td>$17.49</td>\n",
       "    </tr>\n",
       "  </tbody>\n",
       "</table>\n",
       "</div>"
      ],
      "text/plain": [
       "            timestamp   user_id  book_id                   country  \\\n",
       "0 2021-05-01 00:00:01  ad8eca41     1584                  Portugal   \n",
       "1 2021-05-01 00:00:03  561b26c1      829  United States of America   \n",
       "2 2021-05-01 00:00:04  81f149e5     1391                     Japan   \n",
       "3 2021-05-01 00:00:07  4f218413     1586                    Taiwan   \n",
       "4 2021-05-01 00:00:18  a4066781      300  United States of America   \n",
       "\n",
       "                             Book Title  \\\n",
       "0                          Sycamore Row   \n",
       "1      The 5 Love Languages of Children   \n",
       "2                         The Guardians   \n",
       "3                    How to Be a 3% Man   \n",
       "4  Napoleon Hill's Outwitting the Devil   \n",
       "\n",
       "                               Book Subtitle    Book Author    Book Narrator  \\\n",
       "0                                       None   John Grisham     Michael Beck   \n",
       "1  The Secret to Loving Children Effectively   Gary Chapman      Chris Fabry   \n",
       "2                                    A Novel   John Grisham     Michael Beck   \n",
       "3                                       None    Corey Wayne      Corey Wayne   \n",
       "4          The Secret to Freedom and Success  Napoleon Hill  Dan John Miller   \n",
       "\n",
       "        Audio Runtime        Audiobook_Type  \\\n",
       "0  20 hrs and 46 mins  Unabridged Audiobook   \n",
       "1   5 hrs and 48 mins  Unabridged Audiobook   \n",
       "2  11 hrs and 50 mins  Unabridged Audiobook   \n",
       "3   7 hrs and 33 mins  Unabridged Audiobook   \n",
       "4   5 hrs and 51 mins  Unabridged Audiobook   \n",
       "\n",
       "                                        Categories Rating  \\\n",
       "0                     Mystery, Thriller & Suspense    4.6   \n",
       "1  Relationships, Parenting & Personal Development    4.8   \n",
       "2                     Mystery, Thriller & Suspense    4.6   \n",
       "3  Relationships, Parenting & Personal Development    4.8   \n",
       "4                               Business & Careers    4.8   \n",
       "\n",
       "   Total No. of Ratings    Price  \n",
       "0               25863.0  $35.00   \n",
       "1                2441.0  $19.59   \n",
       "2               26781.0  $31.50   \n",
       "3               11459.0  $19.95   \n",
       "4                9305.0  $17.49   "
      ]
     },
     "execution_count": 121,
     "metadata": {},
     "output_type": "execute_result"
    }
   ],
   "source": [
    "transaction = audible_transaction.merge(audible_data, how=\"left\", left_on=\"book_id\", right_on=\"Book_ID\")\n",
    "transaction.head()"
   ]
  },
  {
   "cell_type": "code",
   "execution_count": 44,
   "id": "a95abb66",
   "metadata": {},
   "outputs": [
    {
     "name": "stdout",
     "output_type": "stream",
     "text": [
      "<class 'pandas.core.frame.DataFrame'>\n",
      "Int64Index: 1998821 entries, 0 to 1998820\n",
      "Data columns (total 14 columns):\n",
      " #   Column                Dtype         \n",
      "---  ------                -----         \n",
      " 0   timestamp             datetime64[ns]\n",
      " 1   user_id               object        \n",
      " 2   book_id               int64         \n",
      " 3   country               object        \n",
      " 4   Book Title            object        \n",
      " 5   Book Subtitle         object        \n",
      " 6   Book Author           object        \n",
      " 7   Book Narrator         object        \n",
      " 8   Audio Runtime         object        \n",
      " 9   Audiobook_Type        object        \n",
      " 10  Categories            object        \n",
      " 11  Rating                object        \n",
      " 12  Total No. of Ratings  float64       \n",
      " 13  Price                 object        \n",
      "dtypes: datetime64[ns](1), float64(1), int64(1), object(11)\n",
      "memory usage: 228.7+ MB\n"
     ]
    }
   ],
   "source": [
    "transaction.info()"
   ]
  },
  {
   "cell_type": "markdown",
   "id": "b4e98ad8",
   "metadata": {},
   "source": [
    " ----------------------------------------"
   ]
  },
  {
   "cell_type": "markdown",
   "id": "edc1df42",
   "metadata": {},
   "source": [
    "### Rest API\n",
    "- Requests - https://requests.readthedocs.io/en/latest/\n",
    "- HTTP Status Codes - https://httpstatuses.io/"
   ]
  },
  {
   "cell_type": "code",
   "execution_count": 63,
   "id": "7080bb31",
   "metadata": {},
   "outputs": [
    {
     "data": {
      "text/plain": [
       "200"
      ]
     },
     "execution_count": 63,
     "metadata": {},
     "output_type": "execute_result"
    }
   ],
   "source": [
    "import requests\n",
    "url = \"https://r2de2-workshop-vmftiryt6q-ts.a.run.app/usd_thb_conversion_rate\"\n",
    "response = requests.get(url) # , auth=('user', 'pass')) #not have\n",
    "response.status_code # check status - if 200 is OK"
   ]
  },
  {
   "cell_type": "code",
   "execution_count": 72,
   "id": "7a2f6b33",
   "metadata": {},
   "outputs": [
    {
     "data": {
      "text/plain": [
       "'{\"conversion_rate\":{\"2021-08-12\":33.084,\"2021-08-11\":33.145,\"2021-08-10\":33.46,\"2021-08-09\":33.464,\"2021-08-08\":33.395,\"2021-08-07\":33.422,\"2021-08-06\":33.45,\"2021-08-05\":33.263,\"2021-08-04\":33.137,\"2021-08-03\":33.022,\"2021-08-02\":32.957,\"2021-08-01\":32.895,\"2021-07-31\":32.887,\"2021-07-30\":32.887,\"2021-07-29\":32.87,\"2021-07-28\":32.82,\"2021-07-27\":32.937,\"2021-07-26\":32.929,\"2021-07-25\":32.94,\"2021-07-24\":32.963,\"2021-07-23\":32.928,\"2021-07-22\":32.887,\"2021-07-21\":32.857,\"2021-07-20\":32.829,\"2021-07-19\":32.854,\"2021-07-18\":32.807,\"2021-07-17\":32.795,\"2021-07-16\":32.783,\"2021-07-15\":32.686,\"2021-07-14\":32.605,\"2021-07-13\":32.654,\"2021-07-12\":32.664,\"2021-07-11\":32.506,\"2021-07-10\":32.482,\"2021-07-09\":32.512,\"2021-07-08\":32.534,\"2021-07-07\":32.334,\"2021-07-06\":32.271,\"2021-07-05\":32.112,\"2021-07-04\":32.136,\"2021-07-03\":32.125,\"2021-07-02\":32.126,\"2021-07-01\":32.073,\"2021-06-30\":32.029,\"2021-06-29\":32.108,\"2021-06-28\":31.918,\"2021-06-27\":31.785,\"2021-06-26\":31.816,\"2021-06-25\":31.816,\"2021-06-24\":31.898,\"2021-06-23\":31.825,\"2021-06-22\":31.681,\"2021-06-21\":31.617,\"2021-06-20\":31.461,\"2021-06-19\":31.437,\"2021-06-18\":31.439,\"2021-06-17\":31.422,\"2021-06-16\":31.297,\"2021-06-15\":31.162,\"2021-06-14\":31.117,\"2021-06-13\":31.077,\"2021-06-12\":31.074,\"2021-06-11\":31.092,\"2021-06-10\":31.14,\"2021-06-09\":31.167,\"2021-06-08\":31.202,\"2021-06-07\":31.176,\"2021-06-06\":31.133,\"2021-06-05\":31.125,\"2021-06-04\":31.125,\"2021-06-03\":31.209,\"2021-06-02\":31.108,\"2021-06-01\":31.169,\"2021-05-31\":31.193,\"2021-05-30\":31.238,\"2021-05-29\":31.252,\"2021-05-28\":31.257,\"2021-05-27\":31.297,\"2021-05-26\":31.281,\"2021-05-25\":31.328,\"2021-05-24\":31.323,\"2021-05-23\":31.37,\"2021-05-22\":31.361,\"2021-05-21\":31.361,\"2021-05-20\":31.378,\"2021-05-19\":31.413,\"2021-05-18\":31.42,\"2021-05-17\":31.492,\"2021-05-16\":31.365,\"2021-05-15\":31.33,\"2021-05-14\":31.33,\"2021-05-13\":31.344,\"2021-05-12\":31.304,\"2021-05-11\":31.158,\"2021-05-10\":31.107,\"2021-05-09\":31.033,\"2021-05-08\":31.042,\"2021-05-07\":31.042,\"2021-05-06\":31.226,\"2021-05-05\":31.13,\"2021-05-04\":31.188,\"2021-05-03\":31.132,\"2021-05-02\":31.122,\"2021-05-01\":31.14,\"2021-04-30\":31.139,\"2021-04-29\":31.197,\"2021-04-28\":31.344,\"2021-04-27\":31.355,\"2021-04-26\":31.427,\"2021-04-25\":31.421,\"2021-04-24\":31.411,\"2021-04-23\":31.412,\"2021-04-22\":31.378,\"2021-04-21\":31.3,\"2021-04-20\":31.281,\"2021-04-19\":31.203,\"2021-04-18\":31.226,\"2021-04-17\":31.204,\"2021-04-16\":31.203,\"2021-04-15\":31.165,\"2021-04-14\":31.329,\"2021-04-13\":31.496,\"2021-04-12\":31.482,\"2021-04-11\":31.462,\"2021-04-10\":31.454,\"2021-04-09\":31.451,\"2021-04-08\":31.433,\"2021-04-07\":31.387,\"2021-04-06\":31.288,\"2021-04-05\":31.342,\"2021-04-04\":31.244,\"2021-04-03\":31.256,\"2021-04-02\":31.29,\"2021-04-01\":31.194}}'"
      ]
     },
     "execution_count": 72,
     "metadata": {},
     "output_type": "execute_result"
    }
   ],
   "source": [
    "r.text # can use just 'r'"
   ]
  },
  {
   "cell_type": "code",
   "execution_count": 73,
   "id": "0f78734c",
   "metadata": {},
   "outputs": [
    {
     "data": {
      "text/plain": [
       "{'conversion_rate': {'2021-08-12': 33.084,\n",
       "  '2021-08-11': 33.145,\n",
       "  '2021-08-10': 33.46,\n",
       "  '2021-08-09': 33.464,\n",
       "  '2021-08-08': 33.395,\n",
       "  '2021-08-07': 33.422,\n",
       "  '2021-08-06': 33.45,\n",
       "  '2021-08-05': 33.263,\n",
       "  '2021-08-04': 33.137,\n",
       "  '2021-08-03': 33.022,\n",
       "  '2021-08-02': 32.957,\n",
       "  '2021-08-01': 32.895,\n",
       "  '2021-07-31': 32.887,\n",
       "  '2021-07-30': 32.887,\n",
       "  '2021-07-29': 32.87,\n",
       "  '2021-07-28': 32.82,\n",
       "  '2021-07-27': 32.937,\n",
       "  '2021-07-26': 32.929,\n",
       "  '2021-07-25': 32.94,\n",
       "  '2021-07-24': 32.963,\n",
       "  '2021-07-23': 32.928,\n",
       "  '2021-07-22': 32.887,\n",
       "  '2021-07-21': 32.857,\n",
       "  '2021-07-20': 32.829,\n",
       "  '2021-07-19': 32.854,\n",
       "  '2021-07-18': 32.807,\n",
       "  '2021-07-17': 32.795,\n",
       "  '2021-07-16': 32.783,\n",
       "  '2021-07-15': 32.686,\n",
       "  '2021-07-14': 32.605,\n",
       "  '2021-07-13': 32.654,\n",
       "  '2021-07-12': 32.664,\n",
       "  '2021-07-11': 32.506,\n",
       "  '2021-07-10': 32.482,\n",
       "  '2021-07-09': 32.512,\n",
       "  '2021-07-08': 32.534,\n",
       "  '2021-07-07': 32.334,\n",
       "  '2021-07-06': 32.271,\n",
       "  '2021-07-05': 32.112,\n",
       "  '2021-07-04': 32.136,\n",
       "  '2021-07-03': 32.125,\n",
       "  '2021-07-02': 32.126,\n",
       "  '2021-07-01': 32.073,\n",
       "  '2021-06-30': 32.029,\n",
       "  '2021-06-29': 32.108,\n",
       "  '2021-06-28': 31.918,\n",
       "  '2021-06-27': 31.785,\n",
       "  '2021-06-26': 31.816,\n",
       "  '2021-06-25': 31.816,\n",
       "  '2021-06-24': 31.898,\n",
       "  '2021-06-23': 31.825,\n",
       "  '2021-06-22': 31.681,\n",
       "  '2021-06-21': 31.617,\n",
       "  '2021-06-20': 31.461,\n",
       "  '2021-06-19': 31.437,\n",
       "  '2021-06-18': 31.439,\n",
       "  '2021-06-17': 31.422,\n",
       "  '2021-06-16': 31.297,\n",
       "  '2021-06-15': 31.162,\n",
       "  '2021-06-14': 31.117,\n",
       "  '2021-06-13': 31.077,\n",
       "  '2021-06-12': 31.074,\n",
       "  '2021-06-11': 31.092,\n",
       "  '2021-06-10': 31.14,\n",
       "  '2021-06-09': 31.167,\n",
       "  '2021-06-08': 31.202,\n",
       "  '2021-06-07': 31.176,\n",
       "  '2021-06-06': 31.133,\n",
       "  '2021-06-05': 31.125,\n",
       "  '2021-06-04': 31.125,\n",
       "  '2021-06-03': 31.209,\n",
       "  '2021-06-02': 31.108,\n",
       "  '2021-06-01': 31.169,\n",
       "  '2021-05-31': 31.193,\n",
       "  '2021-05-30': 31.238,\n",
       "  '2021-05-29': 31.252,\n",
       "  '2021-05-28': 31.257,\n",
       "  '2021-05-27': 31.297,\n",
       "  '2021-05-26': 31.281,\n",
       "  '2021-05-25': 31.328,\n",
       "  '2021-05-24': 31.323,\n",
       "  '2021-05-23': 31.37,\n",
       "  '2021-05-22': 31.361,\n",
       "  '2021-05-21': 31.361,\n",
       "  '2021-05-20': 31.378,\n",
       "  '2021-05-19': 31.413,\n",
       "  '2021-05-18': 31.42,\n",
       "  '2021-05-17': 31.492,\n",
       "  '2021-05-16': 31.365,\n",
       "  '2021-05-15': 31.33,\n",
       "  '2021-05-14': 31.33,\n",
       "  '2021-05-13': 31.344,\n",
       "  '2021-05-12': 31.304,\n",
       "  '2021-05-11': 31.158,\n",
       "  '2021-05-10': 31.107,\n",
       "  '2021-05-09': 31.033,\n",
       "  '2021-05-08': 31.042,\n",
       "  '2021-05-07': 31.042,\n",
       "  '2021-05-06': 31.226,\n",
       "  '2021-05-05': 31.13,\n",
       "  '2021-05-04': 31.188,\n",
       "  '2021-05-03': 31.132,\n",
       "  '2021-05-02': 31.122,\n",
       "  '2021-05-01': 31.14,\n",
       "  '2021-04-30': 31.139,\n",
       "  '2021-04-29': 31.197,\n",
       "  '2021-04-28': 31.344,\n",
       "  '2021-04-27': 31.355,\n",
       "  '2021-04-26': 31.427,\n",
       "  '2021-04-25': 31.421,\n",
       "  '2021-04-24': 31.411,\n",
       "  '2021-04-23': 31.412,\n",
       "  '2021-04-22': 31.378,\n",
       "  '2021-04-21': 31.3,\n",
       "  '2021-04-20': 31.281,\n",
       "  '2021-04-19': 31.203,\n",
       "  '2021-04-18': 31.226,\n",
       "  '2021-04-17': 31.204,\n",
       "  '2021-04-16': 31.203,\n",
       "  '2021-04-15': 31.165,\n",
       "  '2021-04-14': 31.329,\n",
       "  '2021-04-13': 31.496,\n",
       "  '2021-04-12': 31.482,\n",
       "  '2021-04-11': 31.462,\n",
       "  '2021-04-10': 31.454,\n",
       "  '2021-04-09': 31.451,\n",
       "  '2021-04-08': 31.433,\n",
       "  '2021-04-07': 31.387,\n",
       "  '2021-04-06': 31.288,\n",
       "  '2021-04-05': 31.342,\n",
       "  '2021-04-04': 31.244,\n",
       "  '2021-04-03': 31.256,\n",
       "  '2021-04-02': 31.29,\n",
       "  '2021-04-01': 31.194}}"
      ]
     },
     "execution_count": 73,
     "metadata": {},
     "output_type": "execute_result"
    }
   ],
   "source": [
    "result_conversion_rate = r.json()\n",
    "result_conversion_rate"
   ]
  },
  {
   "cell_type": "code",
   "execution_count": 84,
   "id": "72502001",
   "metadata": {},
   "outputs": [
    {
     "name": "stdout",
     "output_type": "stream",
     "text": [
      "<class 'dict'>\n"
     ]
    }
   ],
   "source": [
    "# same method for check type\n",
    "# assert isinstance(result_conversion_rate, dict) # assert is check type if not 'dict' is error\n",
    "print(type(result_conversion_rate))"
   ]
  },
  {
   "cell_type": "code",
   "execution_count": 135,
   "id": "09fb9c42",
   "metadata": {},
   "outputs": [
    {
     "data": {
      "text/html": [
       "<div>\n",
       "<style scoped>\n",
       "    .dataframe tbody tr th:only-of-type {\n",
       "        vertical-align: middle;\n",
       "    }\n",
       "\n",
       "    .dataframe tbody tr th {\n",
       "        vertical-align: top;\n",
       "    }\n",
       "\n",
       "    .dataframe thead th {\n",
       "        text-align: right;\n",
       "    }\n",
       "</style>\n",
       "<table border=\"1\" class=\"dataframe\">\n",
       "  <thead>\n",
       "    <tr style=\"text-align: right;\">\n",
       "      <th></th>\n",
       "      <th>date</th>\n",
       "      <th>conversion_rate</th>\n",
       "    </tr>\n",
       "  </thead>\n",
       "  <tbody>\n",
       "    <tr>\n",
       "      <th>0</th>\n",
       "      <td>2021-04-01</td>\n",
       "      <td>31.194</td>\n",
       "    </tr>\n",
       "    <tr>\n",
       "      <th>1</th>\n",
       "      <td>2021-04-02</td>\n",
       "      <td>31.290</td>\n",
       "    </tr>\n",
       "    <tr>\n",
       "      <th>2</th>\n",
       "      <td>2021-04-03</td>\n",
       "      <td>31.256</td>\n",
       "    </tr>\n",
       "    <tr>\n",
       "      <th>3</th>\n",
       "      <td>2021-04-04</td>\n",
       "      <td>31.244</td>\n",
       "    </tr>\n",
       "    <tr>\n",
       "      <th>4</th>\n",
       "      <td>2021-04-05</td>\n",
       "      <td>31.342</td>\n",
       "    </tr>\n",
       "  </tbody>\n",
       "</table>\n",
       "</div>"
      ],
      "text/plain": [
       "         date  conversion_rate\n",
       "0  2021-04-01           31.194\n",
       "1  2021-04-02           31.290\n",
       "2  2021-04-03           31.256\n",
       "3  2021-04-04           31.244\n",
       "4  2021-04-05           31.342"
      ]
     },
     "execution_count": 135,
     "metadata": {},
     "output_type": "execute_result"
    }
   ],
   "source": [
    "conversion_rate = pd.DataFrame(result_conversion_rate)\n",
    "conversion_rate = conversion_rate.reset_index().rename(columns={\"index\": \"date\"})\n",
    "conversion_rate.head()"
   ]
  },
  {
   "cell_type": "markdown",
   "id": "bfa9132c",
   "metadata": {},
   "source": [
    "### Join data\n",
    "- transaction = `timestamp`\n",
    "- conversion_rate = `date`"
   ]
  },
  {
   "cell_type": "code",
   "execution_count": 130,
   "id": "c642a453",
   "metadata": {},
   "outputs": [
    {
     "data": {
      "text/plain": [
       "0   2021-05-01 00:00:01\n",
       "Name: date, dtype: datetime64[ns]"
      ]
     },
     "execution_count": 130,
     "metadata": {},
     "output_type": "execute_result"
    }
   ],
   "source": [
    "transaction.rename(columns = {'timestamp':'date'}, inplace = True)\n",
    "transaction['date'].head(1)"
   ]
  },
  {
   "cell_type": "code",
   "execution_count": 136,
   "id": "2a629bdc",
   "metadata": {},
   "outputs": [
    {
     "data": {
      "text/plain": [
       "0    2021-04-01\n",
       "Name: date, dtype: object"
      ]
     },
     "execution_count": 136,
     "metadata": {},
     "output_type": "execute_result"
    }
   ],
   "source": [
    "conversion_rate['date'].head(1)"
   ]
  },
  {
   "cell_type": "code",
   "execution_count": 150,
   "id": "330ee4a4",
   "metadata": {},
   "outputs": [
    {
     "data": {
      "text/plain": [
       "0    2021-05-01\n",
       "Name: date, dtype: object"
      ]
     },
     "execution_count": 150,
     "metadata": {},
     "output_type": "execute_result"
    }
   ],
   "source": [
    "# type 2 table do not match\n",
    "transaction['date'] = pd.to_datetime(transaction['date']).dt.date\n",
    "conversion_rate['date'] = pd.to_datetime(conversion_rate['date']).dt.date\n",
    "transaction['date'].head(1)"
   ]
  },
  {
   "cell_type": "code",
   "execution_count": 151,
   "id": "4a649c70",
   "metadata": {},
   "outputs": [
    {
     "data": {
      "text/html": [
       "<div>\n",
       "<style scoped>\n",
       "    .dataframe tbody tr th:only-of-type {\n",
       "        vertical-align: middle;\n",
       "    }\n",
       "\n",
       "    .dataframe tbody tr th {\n",
       "        vertical-align: top;\n",
       "    }\n",
       "\n",
       "    .dataframe thead th {\n",
       "        text-align: right;\n",
       "    }\n",
       "</style>\n",
       "<table border=\"1\" class=\"dataframe\">\n",
       "  <thead>\n",
       "    <tr style=\"text-align: right;\">\n",
       "      <th></th>\n",
       "      <th>date</th>\n",
       "      <th>user_id</th>\n",
       "      <th>book_id</th>\n",
       "      <th>country</th>\n",
       "      <th>Book Title</th>\n",
       "      <th>Book Subtitle</th>\n",
       "      <th>Book Author</th>\n",
       "      <th>Book Narrator</th>\n",
       "      <th>Audio Runtime</th>\n",
       "      <th>Audiobook_Type</th>\n",
       "      <th>Categories</th>\n",
       "      <th>Rating</th>\n",
       "      <th>Total No. of Ratings</th>\n",
       "      <th>Price</th>\n",
       "      <th>conversion_rate</th>\n",
       "    </tr>\n",
       "  </thead>\n",
       "  <tbody>\n",
       "    <tr>\n",
       "      <th>0</th>\n",
       "      <td>2021-05-01</td>\n",
       "      <td>ad8eca41</td>\n",
       "      <td>1584</td>\n",
       "      <td>Portugal</td>\n",
       "      <td>Sycamore Row</td>\n",
       "      <td>None</td>\n",
       "      <td>John Grisham</td>\n",
       "      <td>Michael Beck</td>\n",
       "      <td>20 hrs and 46 mins</td>\n",
       "      <td>Unabridged Audiobook</td>\n",
       "      <td>Mystery, Thriller &amp; Suspense</td>\n",
       "      <td>4.6</td>\n",
       "      <td>25863.0</td>\n",
       "      <td>$35.00</td>\n",
       "      <td>31.14</td>\n",
       "    </tr>\n",
       "  </tbody>\n",
       "</table>\n",
       "</div>"
      ],
      "text/plain": [
       "         date   user_id  book_id   country    Book Title Book Subtitle  \\\n",
       "0  2021-05-01  ad8eca41     1584  Portugal  Sycamore Row          None   \n",
       "\n",
       "    Book Author Book Narrator       Audio Runtime        Audiobook_Type  \\\n",
       "0  John Grisham  Michael Beck  20 hrs and 46 mins  Unabridged Audiobook   \n",
       "\n",
       "                     Categories Rating  Total No. of Ratings    Price  \\\n",
       "0  Mystery, Thriller & Suspense    4.6               25863.0  $35.00    \n",
       "\n",
       "   conversion_rate  \n",
       "0            31.14  "
      ]
     },
     "execution_count": 151,
     "metadata": {},
     "output_type": "execute_result"
    }
   ],
   "source": [
    "final_df = transaction.merge(conversion_rate, how= 'left', left_on= 'date', right_on= 'date')\n",
    "final_df.head(1)"
   ]
  },
  {
   "cell_type": "code",
   "execution_count": 152,
   "id": "8ca5335a",
   "metadata": {},
   "outputs": [
    {
     "data": {
      "text/plain": [
       "0    35.0\n",
       "Name: Price, dtype: float64"
      ]
     },
     "execution_count": 152,
     "metadata": {},
     "output_type": "execute_result"
    }
   ],
   "source": [
    "# column Price is type `string` and has symbol `$`\n",
    "final_df[\"Price\"] = final_df.apply(lambda x: x[\"Price\"].replace(\"$\",\"\"), axis=1).astype(float)\n",
    "final_df[\"Price\"].head(1)"
   ]
  },
  {
   "cell_type": "code",
   "execution_count": 156,
   "id": "49f6047d",
   "metadata": {},
   "outputs": [
    {
     "data": {
      "text/html": [
       "<div>\n",
       "<style scoped>\n",
       "    .dataframe tbody tr th:only-of-type {\n",
       "        vertical-align: middle;\n",
       "    }\n",
       "\n",
       "    .dataframe tbody tr th {\n",
       "        vertical-align: top;\n",
       "    }\n",
       "\n",
       "    .dataframe thead th {\n",
       "        text-align: right;\n",
       "    }\n",
       "</style>\n",
       "<table border=\"1\" class=\"dataframe\">\n",
       "  <thead>\n",
       "    <tr style=\"text-align: right;\">\n",
       "      <th></th>\n",
       "      <th>date</th>\n",
       "      <th>user_id</th>\n",
       "      <th>book_id</th>\n",
       "      <th>country</th>\n",
       "      <th>Book Title</th>\n",
       "      <th>Book Subtitle</th>\n",
       "      <th>Book Author</th>\n",
       "      <th>Book Narrator</th>\n",
       "      <th>Audio Runtime</th>\n",
       "      <th>Audiobook_Type</th>\n",
       "      <th>Categories</th>\n",
       "      <th>Rating</th>\n",
       "      <th>Total No. of Ratings</th>\n",
       "      <th>Price</th>\n",
       "      <th>conversion_rate</th>\n",
       "      <th>THBPrice</th>\n",
       "    </tr>\n",
       "  </thead>\n",
       "  <tbody>\n",
       "    <tr>\n",
       "      <th>0</th>\n",
       "      <td>2021-05-01</td>\n",
       "      <td>ad8eca41</td>\n",
       "      <td>1584</td>\n",
       "      <td>Portugal</td>\n",
       "      <td>Sycamore Row</td>\n",
       "      <td>None</td>\n",
       "      <td>John Grisham</td>\n",
       "      <td>Michael Beck</td>\n",
       "      <td>20 hrs and 46 mins</td>\n",
       "      <td>Unabridged Audiobook</td>\n",
       "      <td>Mystery, Thriller &amp; Suspense</td>\n",
       "      <td>4.6</td>\n",
       "      <td>25863.0</td>\n",
       "      <td>35.00</td>\n",
       "      <td>31.14</td>\n",
       "      <td>1089.9000</td>\n",
       "    </tr>\n",
       "    <tr>\n",
       "      <th>1</th>\n",
       "      <td>2021-05-01</td>\n",
       "      <td>561b26c1</td>\n",
       "      <td>829</td>\n",
       "      <td>United States of America</td>\n",
       "      <td>The 5 Love Languages of Children</td>\n",
       "      <td>The Secret to Loving Children Effectively</td>\n",
       "      <td>Gary Chapman</td>\n",
       "      <td>Chris Fabry</td>\n",
       "      <td>5 hrs and 48 mins</td>\n",
       "      <td>Unabridged Audiobook</td>\n",
       "      <td>Relationships, Parenting &amp; Personal Development</td>\n",
       "      <td>4.8</td>\n",
       "      <td>2441.0</td>\n",
       "      <td>19.59</td>\n",
       "      <td>31.14</td>\n",
       "      <td>610.0326</td>\n",
       "    </tr>\n",
       "    <tr>\n",
       "      <th>2</th>\n",
       "      <td>2021-05-01</td>\n",
       "      <td>81f149e5</td>\n",
       "      <td>1391</td>\n",
       "      <td>Japan</td>\n",
       "      <td>The Guardians</td>\n",
       "      <td>A Novel</td>\n",
       "      <td>John Grisham</td>\n",
       "      <td>Michael Beck</td>\n",
       "      <td>11 hrs and 50 mins</td>\n",
       "      <td>Unabridged Audiobook</td>\n",
       "      <td>Mystery, Thriller &amp; Suspense</td>\n",
       "      <td>4.6</td>\n",
       "      <td>26781.0</td>\n",
       "      <td>31.50</td>\n",
       "      <td>31.14</td>\n",
       "      <td>980.9100</td>\n",
       "    </tr>\n",
       "    <tr>\n",
       "      <th>3</th>\n",
       "      <td>2021-05-01</td>\n",
       "      <td>4f218413</td>\n",
       "      <td>1586</td>\n",
       "      <td>Taiwan</td>\n",
       "      <td>How to Be a 3% Man</td>\n",
       "      <td>None</td>\n",
       "      <td>Corey Wayne</td>\n",
       "      <td>Corey Wayne</td>\n",
       "      <td>7 hrs and 33 mins</td>\n",
       "      <td>Unabridged Audiobook</td>\n",
       "      <td>Relationships, Parenting &amp; Personal Development</td>\n",
       "      <td>4.8</td>\n",
       "      <td>11459.0</td>\n",
       "      <td>19.95</td>\n",
       "      <td>31.14</td>\n",
       "      <td>621.2430</td>\n",
       "    </tr>\n",
       "    <tr>\n",
       "      <th>4</th>\n",
       "      <td>2021-05-01</td>\n",
       "      <td>a4066781</td>\n",
       "      <td>300</td>\n",
       "      <td>United States of America</td>\n",
       "      <td>Napoleon Hill's Outwitting the Devil</td>\n",
       "      <td>The Secret to Freedom and Success</td>\n",
       "      <td>Napoleon Hill</td>\n",
       "      <td>Dan John Miller</td>\n",
       "      <td>5 hrs and 51 mins</td>\n",
       "      <td>Unabridged Audiobook</td>\n",
       "      <td>Business &amp; Careers</td>\n",
       "      <td>4.8</td>\n",
       "      <td>9305.0</td>\n",
       "      <td>17.49</td>\n",
       "      <td>31.14</td>\n",
       "      <td>544.6386</td>\n",
       "    </tr>\n",
       "  </tbody>\n",
       "</table>\n",
       "</div>"
      ],
      "text/plain": [
       "         date   user_id  book_id                   country  \\\n",
       "0  2021-05-01  ad8eca41     1584                  Portugal   \n",
       "1  2021-05-01  561b26c1      829  United States of America   \n",
       "2  2021-05-01  81f149e5     1391                     Japan   \n",
       "3  2021-05-01  4f218413     1586                    Taiwan   \n",
       "4  2021-05-01  a4066781      300  United States of America   \n",
       "\n",
       "                             Book Title  \\\n",
       "0                          Sycamore Row   \n",
       "1      The 5 Love Languages of Children   \n",
       "2                         The Guardians   \n",
       "3                    How to Be a 3% Man   \n",
       "4  Napoleon Hill's Outwitting the Devil   \n",
       "\n",
       "                               Book Subtitle    Book Author    Book Narrator  \\\n",
       "0                                       None   John Grisham     Michael Beck   \n",
       "1  The Secret to Loving Children Effectively   Gary Chapman      Chris Fabry   \n",
       "2                                    A Novel   John Grisham     Michael Beck   \n",
       "3                                       None    Corey Wayne      Corey Wayne   \n",
       "4          The Secret to Freedom and Success  Napoleon Hill  Dan John Miller   \n",
       "\n",
       "        Audio Runtime        Audiobook_Type  \\\n",
       "0  20 hrs and 46 mins  Unabridged Audiobook   \n",
       "1   5 hrs and 48 mins  Unabridged Audiobook   \n",
       "2  11 hrs and 50 mins  Unabridged Audiobook   \n",
       "3   7 hrs and 33 mins  Unabridged Audiobook   \n",
       "4   5 hrs and 51 mins  Unabridged Audiobook   \n",
       "\n",
       "                                        Categories Rating  \\\n",
       "0                     Mystery, Thriller & Suspense    4.6   \n",
       "1  Relationships, Parenting & Personal Development    4.8   \n",
       "2                     Mystery, Thriller & Suspense    4.6   \n",
       "3  Relationships, Parenting & Personal Development    4.8   \n",
       "4                               Business & Careers    4.8   \n",
       "\n",
       "   Total No. of Ratings  Price  conversion_rate   THBPrice  \n",
       "0               25863.0  35.00            31.14  1089.9000  \n",
       "1                2441.0  19.59            31.14   610.0326  \n",
       "2               26781.0  31.50            31.14   980.9100  \n",
       "3               11459.0  19.95            31.14   621.2430  \n",
       "4                9305.0  17.49            31.14   544.6386  "
      ]
     },
     "execution_count": 156,
     "metadata": {},
     "output_type": "execute_result"
    }
   ],
   "source": [
    "# can do 3 method\n",
    "#final_df['THBPrice'] = final_df['Price'] * final_df['conversion_rate']\n",
    "#final_df[\"THBPrice\"] = final_df.apply(lambda x: x[\"Price\"] * x[\"conversion_rate\"], axis=1)\n",
    "\n",
    "def convert_rate(price, rate):\n",
    "    return price * rate\n",
    "\n",
    "final_df[\"THBPrice\"] = convert_rate( final_df[\"Price\"] , final_df[\"conversion_rate\"] )\n",
    "\n",
    "final_df.head()"
   ]
  },
  {
   "cell_type": "code",
   "execution_count": 155,
   "id": "7d56a157",
   "metadata": {},
   "outputs": [
    {
     "data": {
      "text/plain": [
       "date                     object\n",
       "user_id                  object\n",
       "book_id                   int64\n",
       "country                  object\n",
       "Book Title               object\n",
       "Book Subtitle            object\n",
       "Book Author              object\n",
       "Book Narrator            object\n",
       "Audio Runtime            object\n",
       "Audiobook_Type           object\n",
       "Categories               object\n",
       "Rating                   object\n",
       "Total No. of Ratings    float64\n",
       "Price                   float64\n",
       "conversion_rate         float64\n",
       "THBPrice                float64\n",
       "dtype: object"
      ]
     },
     "execution_count": 155,
     "metadata": {},
     "output_type": "execute_result"
    }
   ],
   "source": [
    "final_df.dtypes"
   ]
  },
  {
   "cell_type": "markdown",
   "id": "9ada5768",
   "metadata": {},
   "source": [
    "### Save to CSV"
   ]
  },
  {
   "cell_type": "code",
   "execution_count": 157,
   "id": "eadd8b46",
   "metadata": {},
   "outputs": [],
   "source": [
    "final_df.to_csv(\"output.csv\", index=False)"
   ]
  }
 ],
 "metadata": {
  "kernelspec": {
   "display_name": "Python 3 (ipykernel)",
   "language": "python",
   "name": "python3"
  },
  "language_info": {
   "codemirror_mode": {
    "name": "ipython",
    "version": 3
   },
   "file_extension": ".py",
   "mimetype": "text/x-python",
   "name": "python",
   "nbconvert_exporter": "python",
   "pygments_lexer": "ipython3",
   "version": "3.10.9"
  }
 },
 "nbformat": 4,
 "nbformat_minor": 5
}
